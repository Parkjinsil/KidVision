{
 "cells": [
  {
   "cell_type": "markdown",
   "metadata": {},
   "source": [
    "# 그림이 이상치로 판정되면 그 아이가 그린 다른그림들도 이상치로 분류하기위해 사용한 파일입니다."
   ]
  },
  {
   "cell_type": "code",
   "execution_count": 1,
   "metadata": {},
   "outputs": [],
   "source": [
    "import os"
   ]
  },
  {
   "cell_type": "code",
   "execution_count": 19,
   "metadata": {},
   "outputs": [],
   "source": [
    "house_list = os.listdir('./data/noannotated_data/house')\n",
    "house_list.sort()\n",
    "\n",
    "tree_list = os.listdir('./data/noannotated_data/tree')\n",
    "tree_list.sort()\n",
    "\n",
    "person_list = os.listdir('./data/noannotated_data/person')\n",
    "person_list.sort()"
   ]
  },
  {
   "cell_type": "code",
   "execution_count": 20,
   "metadata": {},
   "outputs": [
    {
     "name": "stdout",
     "output_type": "stream",
     "text": [
      "980 970 983\n"
     ]
    }
   ],
   "source": [
    "get_first = lambda x: \"_\".join(x.split(\".\")[0].split(\"_\")[0:3])\n",
    "house_list = list(map(get_first, house_list))\n",
    "tree_list = list(map(get_first, tree_list))\n",
    "person_list = list(map(get_first, person_list))\n",
    "print(len(house_list), len(tree_list), len(person_list))"
   ]
  },
  {
   "cell_type": "code",
   "execution_count": 24,
   "metadata": {},
   "outputs": [],
   "source": [
    "intersection = list(set(house_list) & set(tree_list) & set(person_list))\n",
    "\n",
    "complement_house = list(set(house_list) - set(intersection))\n",
    "complement_house.sort()\n",
    "\n",
    "complement_tree = list(set(tree_list) - set(intersection))\n",
    "complement_tree.sort()\n",
    "\n",
    "complement_person = list(set(person_list) - set(intersection))\n",
    "complement_person.sort()\n"
   ]
  },
  {
   "cell_type": "code",
   "execution_count": 28,
   "metadata": {},
   "outputs": [],
   "source": [
    "get_named = lambda x, y: x + y + \".jpg\"\n",
    "remove_house = list(map(lambda x: get_named(x, \"_house\"), complement_house))\n",
    "remove_tree = list(map(lambda x: get_named(x, \"_tree\"), complement_tree))\n",
    "remove_person = list(map(lambda x: get_named(x, \"_person\"), complement_person))"
   ]
  },
  {
   "cell_type": "code",
   "execution_count": 31,
   "metadata": {},
   "outputs": [],
   "source": [
    "def remove_files(file_list, path):\n",
    "    for file in file_list:\n",
    "        os.remove(os.path.join(path, file))"
   ]
  },
  {
   "cell_type": "code",
   "execution_count": 32,
   "metadata": {},
   "outputs": [],
   "source": [
    "remove_files(remove_house, './data/noannotated_data/house')\n",
    "remove_files(remove_tree, './data/noannotated_data/tree')\n",
    "remove_files(remove_person, './data/noannotated_data/person')"
   ]
  },
  {
   "cell_type": "code",
   "execution_count": 33,
   "metadata": {},
   "outputs": [
    {
     "name": "stdout",
     "output_type": "stream",
     "text": [
      "934\n",
      "934\n",
      "934\n"
     ]
    }
   ],
   "source": [
    "print(len(os.listdir('./data/noannotated_data/house')))\n",
    "print(len(os.listdir('./data/noannotated_data/tree')))\n",
    "print(len(os.listdir('./data/noannotated_data/person')))"
   ]
  }
 ],
 "metadata": {
  "kernelspec": {
   "display_name": "yolov5",
   "language": "python",
   "name": "python3"
  },
  "language_info": {
   "codemirror_mode": {
    "name": "ipython",
    "version": 3
   },
   "file_extension": ".py",
   "mimetype": "text/x-python",
   "name": "python",
   "nbconvert_exporter": "python",
   "pygments_lexer": "ipython3",
   "version": "3.9.19"
  }
 },
 "nbformat": 4,
 "nbformat_minor": 2
}
